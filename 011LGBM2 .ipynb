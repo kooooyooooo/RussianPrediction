{
 "cells": [
  {
   "cell_type": "code",
   "execution_count": 2,
   "metadata": {},
   "outputs": [],
   "source": [
    "import pandas as pd\n",
    "import lightgbm\n",
    "import time"
   ]
  },
  {
   "cell_type": "code",
   "execution_count": 3,
   "metadata": {
    "scrolled": true
   },
   "outputs": [
    {
     "data": {
      "text/html": [
       "<div>\n",
       "<style scoped>\n",
       "    .dataframe tbody tr th:only-of-type {\n",
       "        vertical-align: middle;\n",
       "    }\n",
       "\n",
       "    .dataframe tbody tr th {\n",
       "        vertical-align: top;\n",
       "    }\n",
       "\n",
       "    .dataframe thead th {\n",
       "        text-align: right;\n",
       "    }\n",
       "</style>\n",
       "<table border=\"1\" class=\"dataframe\">\n",
       "  <thead>\n",
       "    <tr style=\"text-align: right;\">\n",
       "      <th></th>\n",
       "      <th>date_block_num</th>\n",
       "      <th>shop_id</th>\n",
       "      <th>item_id</th>\n",
       "      <th>item_cnt_month</th>\n",
       "      <th>month</th>\n",
       "      <th>city</th>\n",
       "      <th>item_category_id</th>\n",
       "    </tr>\n",
       "  </thead>\n",
       "  <tbody>\n",
       "    <tr>\n",
       "      <th>0</th>\n",
       "      <td>0</td>\n",
       "      <td>2</td>\n",
       "      <td>19</td>\n",
       "      <td>0.0</td>\n",
       "      <td>0</td>\n",
       "      <td>Adygea</td>\n",
       "      <td>40</td>\n",
       "    </tr>\n",
       "    <tr>\n",
       "      <th>1</th>\n",
       "      <td>0</td>\n",
       "      <td>3</td>\n",
       "      <td>19</td>\n",
       "      <td>0.0</td>\n",
       "      <td>0</td>\n",
       "      <td>Balashikha</td>\n",
       "      <td>40</td>\n",
       "    </tr>\n",
       "    <tr>\n",
       "      <th>2</th>\n",
       "      <td>0</td>\n",
       "      <td>4</td>\n",
       "      <td>19</td>\n",
       "      <td>0.0</td>\n",
       "      <td>0</td>\n",
       "      <td>Volzhsky</td>\n",
       "      <td>40</td>\n",
       "    </tr>\n",
       "    <tr>\n",
       "      <th>3</th>\n",
       "      <td>0</td>\n",
       "      <td>6</td>\n",
       "      <td>19</td>\n",
       "      <td>0.0</td>\n",
       "      <td>0</td>\n",
       "      <td>Voronezh</td>\n",
       "      <td>40</td>\n",
       "    </tr>\n",
       "    <tr>\n",
       "      <th>4</th>\n",
       "      <td>0</td>\n",
       "      <td>7</td>\n",
       "      <td>19</td>\n",
       "      <td>0.0</td>\n",
       "      <td>0</td>\n",
       "      <td>Voronezh</td>\n",
       "      <td>40</td>\n",
       "    </tr>\n",
       "    <tr>\n",
       "      <th>...</th>\n",
       "      <td>...</td>\n",
       "      <td>...</td>\n",
       "      <td>...</td>\n",
       "      <td>...</td>\n",
       "      <td>...</td>\n",
       "      <td>...</td>\n",
       "      <td>...</td>\n",
       "    </tr>\n",
       "    <tr>\n",
       "      <th>11128045</th>\n",
       "      <td>34</td>\n",
       "      <td>49</td>\n",
       "      <td>12470</td>\n",
       "      <td>NaN</td>\n",
       "      <td>10</td>\n",
       "      <td>Tyumen</td>\n",
       "      <td>58</td>\n",
       "    </tr>\n",
       "    <tr>\n",
       "      <th>11128046</th>\n",
       "      <td>34</td>\n",
       "      <td>39</td>\n",
       "      <td>12470</td>\n",
       "      <td>NaN</td>\n",
       "      <td>10</td>\n",
       "      <td>RostovNaDon</td>\n",
       "      <td>58</td>\n",
       "    </tr>\n",
       "    <tr>\n",
       "      <th>11128047</th>\n",
       "      <td>34</td>\n",
       "      <td>48</td>\n",
       "      <td>12470</td>\n",
       "      <td>NaN</td>\n",
       "      <td>10</td>\n",
       "      <td>Tomsk</td>\n",
       "      <td>58</td>\n",
       "    </tr>\n",
       "    <tr>\n",
       "      <th>11128048</th>\n",
       "      <td>34</td>\n",
       "      <td>34</td>\n",
       "      <td>12470</td>\n",
       "      <td>NaN</td>\n",
       "      <td>10</td>\n",
       "      <td>N.Novgorod</td>\n",
       "      <td>58</td>\n",
       "    </tr>\n",
       "    <tr>\n",
       "      <th>11128049</th>\n",
       "      <td>34</td>\n",
       "      <td>36</td>\n",
       "      <td>12470</td>\n",
       "      <td>NaN</td>\n",
       "      <td>10</td>\n",
       "      <td>Novosibirsk</td>\n",
       "      <td>58</td>\n",
       "    </tr>\n",
       "  </tbody>\n",
       "</table>\n",
       "<p>11128050 rows × 7 columns</p>\n",
       "</div>"
      ],
      "text/plain": [
       "          date_block_num  shop_id  item_id  item_cnt_month  month  \\\n",
       "0                      0        2       19             0.0      0   \n",
       "1                      0        3       19             0.0      0   \n",
       "2                      0        4       19             0.0      0   \n",
       "3                      0        6       19             0.0      0   \n",
       "4                      0        7       19             0.0      0   \n",
       "...                  ...      ...      ...             ...    ...   \n",
       "11128045              34       49    12470             NaN     10   \n",
       "11128046              34       39    12470             NaN     10   \n",
       "11128047              34       48    12470             NaN     10   \n",
       "11128048              34       34    12470             NaN     10   \n",
       "11128049              34       36    12470             NaN     10   \n",
       "\n",
       "                 city  item_category_id  \n",
       "0              Adygea                40  \n",
       "1          Balashikha                40  \n",
       "2            Volzhsky                40  \n",
       "3            Voronezh                40  \n",
       "4            Voronezh                40  \n",
       "...               ...               ...  \n",
       "11128045       Tyumen                58  \n",
       "11128046  RostovNaDon                58  \n",
       "11128047        Tomsk                58  \n",
       "11128048   N.Novgorod                58  \n",
       "11128049  Novosibirsk                58  \n",
       "\n",
       "[11128050 rows x 7 columns]"
      ]
     },
     "execution_count": 3,
     "metadata": {},
     "output_type": "execute_result"
    }
   ],
   "source": [
    "test = pd.read_csv('../sale-prediction/test.csv')\n",
    "data = pd.read_csv('../sale-prediction/data.csv')\n",
    "data"
   ]
  },
  {
   "cell_type": "code",
   "execution_count": 4,
   "metadata": {},
   "outputs": [
    {
     "name": "stdout",
     "output_type": "stream",
     "text": [
      "<class 'pandas.core.frame.DataFrame'>\n",
      "RangeIndex: 11128050 entries, 0 to 11128049\n",
      "Data columns (total 7 columns):\n",
      " #   Column            Dtype  \n",
      "---  ------            -----  \n",
      " 0   date_block_num    int64  \n",
      " 1   shop_id           int64  \n",
      " 2   item_id           int64  \n",
      " 3   item_cnt_month    float64\n",
      " 4   month             int64  \n",
      " 5   city              object \n",
      " 6   item_category_id  int64  \n",
      "dtypes: float64(1), int64(5), object(1)\n",
      "memory usage: 594.3+ MB\n"
     ]
    }
   ],
   "source": [
    "data.info()"
   ]
  },
  {
   "cell_type": "code",
   "execution_count": 5,
   "metadata": {},
   "outputs": [
    {
     "data": {
      "text/plain": [
       "0                Adygea\n",
       "1            Balashikha\n",
       "2              Volzhsky\n",
       "3              Voronezh\n",
       "4              Voronezh\n",
       "               ...     \n",
       "11128045         Tyumen\n",
       "11128046    RostovNaDon\n",
       "11128047          Tomsk\n",
       "11128048     N.Novgorod\n",
       "11128049    Novosibirsk\n",
       "Name: city, Length: 11128050, dtype: category\n",
       "Categories (31, object): [Adygea, Balashikha, Chekhov, Digital, ..., Voronezh, Yakutsk, Yaroslavl, Zhukovsky]"
      ]
     },
     "execution_count": 5,
     "metadata": {},
     "output_type": "execute_result"
    }
   ],
   "source": [
    "data.city.astype('category')"
   ]
  },
  {
   "cell_type": "code",
   "execution_count": 6,
   "metadata": {},
   "outputs": [
    {
     "name": "stdout",
     "output_type": "stream",
     "text": [
      "<class 'pandas.core.frame.DataFrame'>\n",
      "RangeIndex: 11128050 entries, 0 to 11128049\n",
      "Data columns (total 7 columns):\n",
      " #   Column            Dtype  \n",
      "---  ------            -----  \n",
      " 0   date_block_num    int64  \n",
      " 1   shop_id           int64  \n",
      " 2   item_id           int64  \n",
      " 3   item_cnt_month    float64\n",
      " 4   month             int64  \n",
      " 5   city              object \n",
      " 6   item_category_id  int64  \n",
      "dtypes: float64(1), int64(5), object(1)\n",
      "memory usage: 594.3+ MB\n"
     ]
    }
   ],
   "source": [
    "data.info()"
   ]
  },
  {
   "cell_type": "code",
   "execution_count": 7,
   "metadata": {
    "scrolled": true
   },
   "outputs": [],
   "source": [
    "city_label={}\n",
    "cities = data.city.unique()\n",
    "for i, v in enumerate(cities):\n",
    "    city_label[v] = i\n",
    "\n",
    "columns=[['city', 'city_num']]\n",
    "city_labels = pd.DataFrame.from_dict(city_label,orient='index').reset_index()\n",
    "city_labels.columns = ['city', 'city_num']\n",
    "data = data.merge(city_labels, on='city')\n"
   ]
  },
  {
   "cell_type": "code",
   "execution_count": 8,
   "metadata": {},
   "outputs": [
    {
     "data": {
      "text/html": [
       "<div>\n",
       "<style scoped>\n",
       "    .dataframe tbody tr th:only-of-type {\n",
       "        vertical-align: middle;\n",
       "    }\n",
       "\n",
       "    .dataframe tbody tr th {\n",
       "        vertical-align: top;\n",
       "    }\n",
       "\n",
       "    .dataframe thead th {\n",
       "        text-align: right;\n",
       "    }\n",
       "</style>\n",
       "<table border=\"1\" class=\"dataframe\">\n",
       "  <thead>\n",
       "    <tr style=\"text-align: right;\">\n",
       "      <th></th>\n",
       "      <th>date_block_num</th>\n",
       "      <th>shop_id</th>\n",
       "      <th>item_id</th>\n",
       "      <th>item_cnt_month</th>\n",
       "      <th>month</th>\n",
       "      <th>item_category_id</th>\n",
       "      <th>city_num</th>\n",
       "    </tr>\n",
       "  </thead>\n",
       "  <tbody>\n",
       "    <tr>\n",
       "      <th>0</th>\n",
       "      <td>0</td>\n",
       "      <td>2</td>\n",
       "      <td>19</td>\n",
       "      <td>0.0</td>\n",
       "      <td>0</td>\n",
       "      <td>40</td>\n",
       "      <td>0</td>\n",
       "    </tr>\n",
       "    <tr>\n",
       "      <th>1</th>\n",
       "      <td>0</td>\n",
       "      <td>2</td>\n",
       "      <td>27</td>\n",
       "      <td>1.0</td>\n",
       "      <td>0</td>\n",
       "      <td>19</td>\n",
       "      <td>0</td>\n",
       "    </tr>\n",
       "    <tr>\n",
       "      <th>2</th>\n",
       "      <td>1</td>\n",
       "      <td>2</td>\n",
       "      <td>27</td>\n",
       "      <td>0.0</td>\n",
       "      <td>1</td>\n",
       "      <td>19</td>\n",
       "      <td>0</td>\n",
       "    </tr>\n",
       "    <tr>\n",
       "      <th>3</th>\n",
       "      <td>2</td>\n",
       "      <td>2</td>\n",
       "      <td>27</td>\n",
       "      <td>0.0</td>\n",
       "      <td>2</td>\n",
       "      <td>19</td>\n",
       "      <td>0</td>\n",
       "    </tr>\n",
       "    <tr>\n",
       "      <th>4</th>\n",
       "      <td>3</td>\n",
       "      <td>2</td>\n",
       "      <td>27</td>\n",
       "      <td>0.0</td>\n",
       "      <td>3</td>\n",
       "      <td>19</td>\n",
       "      <td>0</td>\n",
       "    </tr>\n",
       "    <tr>\n",
       "      <th>...</th>\n",
       "      <td>...</td>\n",
       "      <td>...</td>\n",
       "      <td>...</td>\n",
       "      <td>...</td>\n",
       "      <td>...</td>\n",
       "      <td>...</td>\n",
       "      <td>...</td>\n",
       "    </tr>\n",
       "    <tr>\n",
       "      <th>11128045</th>\n",
       "      <td>27</td>\n",
       "      <td>33</td>\n",
       "      <td>21482</td>\n",
       "      <td>0.0</td>\n",
       "      <td>3</td>\n",
       "      <td>64</td>\n",
       "      <td>30</td>\n",
       "    </tr>\n",
       "    <tr>\n",
       "      <th>11128046</th>\n",
       "      <td>27</td>\n",
       "      <td>33</td>\n",
       "      <td>21656</td>\n",
       "      <td>0.0</td>\n",
       "      <td>3</td>\n",
       "      <td>40</td>\n",
       "      <td>30</td>\n",
       "    </tr>\n",
       "    <tr>\n",
       "      <th>11128047</th>\n",
       "      <td>27</td>\n",
       "      <td>33</td>\n",
       "      <td>21657</td>\n",
       "      <td>0.0</td>\n",
       "      <td>3</td>\n",
       "      <td>37</td>\n",
       "      <td>30</td>\n",
       "    </tr>\n",
       "    <tr>\n",
       "      <th>11128048</th>\n",
       "      <td>27</td>\n",
       "      <td>33</td>\n",
       "      <td>21698</td>\n",
       "      <td>0.0</td>\n",
       "      <td>3</td>\n",
       "      <td>40</td>\n",
       "      <td>30</td>\n",
       "    </tr>\n",
       "    <tr>\n",
       "      <th>11128049</th>\n",
       "      <td>27</td>\n",
       "      <td>33</td>\n",
       "      <td>22009</td>\n",
       "      <td>0.0</td>\n",
       "      <td>3</td>\n",
       "      <td>40</td>\n",
       "      <td>30</td>\n",
       "    </tr>\n",
       "  </tbody>\n",
       "</table>\n",
       "<p>11128050 rows × 7 columns</p>\n",
       "</div>"
      ],
      "text/plain": [
       "          date_block_num  shop_id  item_id  item_cnt_month  month  \\\n",
       "0                      0        2       19             0.0      0   \n",
       "1                      0        2       27             1.0      0   \n",
       "2                      1        2       27             0.0      1   \n",
       "3                      2        2       27             0.0      2   \n",
       "4                      3        2       27             0.0      3   \n",
       "...                  ...      ...      ...             ...    ...   \n",
       "11128045              27       33    21482             0.0      3   \n",
       "11128046              27       33    21656             0.0      3   \n",
       "11128047              27       33    21657             0.0      3   \n",
       "11128048              27       33    21698             0.0      3   \n",
       "11128049              27       33    22009             0.0      3   \n",
       "\n",
       "          item_category_id  city_num  \n",
       "0                       40         0  \n",
       "1                       19         0  \n",
       "2                       19         0  \n",
       "3                       19         0  \n",
       "4                       19         0  \n",
       "...                    ...       ...  \n",
       "11128045                64        30  \n",
       "11128046                40        30  \n",
       "11128047                37        30  \n",
       "11128048                40        30  \n",
       "11128049                40        30  \n",
       "\n",
       "[11128050 rows x 7 columns]"
      ]
     },
     "execution_count": 8,
     "metadata": {},
     "output_type": "execute_result"
    }
   ],
   "source": [
    "data.drop('city', axis=1, inplace=True)\n",
    "data"
   ]
  },
  {
   "cell_type": "code",
   "execution_count": 9,
   "metadata": {},
   "outputs": [],
   "source": [
    "X_train = data[data.date_block_num < 33].drop(['item_cnt_month'], axis=1)\n",
    "Y_train = data[data.date_block_num < 33]['item_cnt_month']\n",
    "X_valid = data[data.date_block_num == 33].drop(['item_cnt_month'],axis=1)\n",
    "Y_valid = data[data.date_block_num == 33]['item_cnt_month']\n",
    "X_test = data[data.date_block_num == 34].drop(['item_cnt_month'], axis=1)"
   ]
  },
  {
   "cell_type": "code",
   "execution_count": 11,
   "metadata": {},
   "outputs": [
    {
     "name": "stdout",
     "output_type": "stream",
     "text": [
      "Training until validation scores don't improve for 50 rounds\n",
      "Early stopping, best iteration is:\n",
      "[103]\ttraining's rmse: 1.90175\tvalid_1's rmse: 4.75938\n"
     ]
    },
    {
     "data": {
      "text/plain": [
       "90.85443878173828"
      ]
     },
     "execution_count": 11,
     "metadata": {},
     "output_type": "execute_result"
    }
   ],
   "source": [
    "# kaggle スタートブックより写経\n",
    "ts=time.time()\n",
    "\n",
    "categorical_features = ['shop_id', 'item_id', 'item_category_id', 'city_num', 'month']\n",
    "lgb_train = lightgbm.Dataset(X_train, Y_train,\n",
    "                             categorical_feature=categorical_features)\n",
    "lgb_eval = lightgbm.Dataset(X_valid, Y_valid,\n",
    "                            categorical_feature=categorical_features)\n",
    "#https://www.kaggle.com/koyohoriuchi/starter-code-with-feature-eng-and-lgbm-lb-0-899/edit\n",
    "params = {'objective' : 'regression',\n",
    "          'metric' : 'rmse',\n",
    "          'n_estimators' : 1000,\n",
    "          'early_stopping_rounds': 50,\n",
    "          #\"num_leaves\" : 150,\n",
    "          \"learning_rate\" : 0.1,\n",
    "          }\n",
    "\n",
    "model = lightgbm.train(params, lgb_train,\n",
    "                  valid_sets=[lgb_train, lgb_eval],\n",
    "                  verbose_eval=1000)\n",
    "\n",
    "time.time() - ts"
   ]
  },
  {
   "cell_type": "code",
   "execution_count": 13,
   "metadata": {},
   "outputs": [
    {
     "data": {
      "text/plain": [
       "4.7586477484831775"
      ]
     },
     "execution_count": 13,
     "metadata": {},
     "output_type": "execute_result"
    }
   ],
   "source": [
    "import numpy as np\n",
    "from sklearn.metrics import mean_squared_error\n",
    "va_pred = model.predict(X_valid)\n",
    "score = np.sqrt(mean_squared_error(Y_valid, va_pred))\n",
    "score"
   ]
  },
  {
   "cell_type": "code",
   "execution_count": null,
   "metadata": {},
   "outputs": [],
   "source": [
    "ts = time.time()\n",
    "\n",
    "Y_test = model.predict(X_test)\n",
    "\n",
    "time.time() - ts\n",
    "sub = pd.DataFrame({'ID': test.index,\n",
    "                    'item_cnt_month': Y_test})\n",
    "\n",
    "sub.to_csv('lgbm_1_sub.csv', index=False)\n",
    "\n",
    "#2.75688"
   ]
  },
  {
   "cell_type": "code",
   "execution_count": null,
   "metadata": {},
   "outputs": [],
   "source": [
    "lightgbm.plot_importance(model, figsize=(12, 6))"
   ]
  },
  {
   "cell_type": "code",
   "execution_count": null,
   "metadata": {},
   "outputs": [],
   "source": [
    "ts=time.time()\n",
    "\n",
    "categorical_features = ['shop_id', 'item_id', 'item_category_id', 'city_num', 'month', 'date_block_num']\n",
    "lgb_train = lightgbm.Dataset(X_train, Y_train,\n",
    "                             categorical_feature=categorical_features)\n",
    "lgb_eval = lightgbm.Dataset(X_valid, Y_valid,\n",
    "                            categorical_feature=categorical_features)\n",
    "#https://www.kaggle.com/koyohoriuchi/starter-code-with-feature-eng-and-lgbm-lb-0-899/edit\n",
    "params = {'objective' : 'regression',\n",
    "          'metric' : 'rmse',\n",
    "          'n_estimators' : 10000,\n",
    "          'early_stopping_rounds':100,\n",
    "          \"num_leaves\" : 150,\n",
    "          \"learning_rate\" : 0.01,\n",
    "          }\n",
    "\n",
    "model = lightgbm.train(params, lgb_train,\n",
    "                  valid_sets=[lgb_train, lgb_eval],\n",
    "                  verbose_eval=1000)\n",
    "\n",
    "time.time() - ts"
   ]
  },
  {
   "cell_type": "code",
   "execution_count": 11,
   "metadata": {},
   "outputs": [],
   "source": [
    "ts = time.time()\n",
    "\n",
    "Y_test = model.predict(X_test)\n",
    "\n",
    "time.time() - ts\n",
    "sub = pd.DataFrame({'ID': test.index,\n",
    "                    'item_cnt_month': Y_test})\n",
    "\n",
    "sub.to_csv('lgbm_2_sub.csv', index=False)\n",
    "#2.75608"
   ]
  },
  {
   "cell_type": "code",
   "execution_count": 12,
   "metadata": {},
   "outputs": [
    {
     "data": {
      "text/plain": [
       "<matplotlib.axes._subplots.AxesSubplot at 0x19b935b5408>"
      ]
     },
     "execution_count": 12,
     "metadata": {},
     "output_type": "execute_result"
    },
    {
     "data": {
      "image/png": "[encoded data removed]",
      "text/plain": [
       "<Figure size 864x432 with 1 Axes>"
      ]
     },
     "metadata": {
      "needs_background": "light"
     },
     "output_type": "display_data"
    }
   ],
   "source": [
    "lightgbm.plot_importance(model, figsize=(12, 6))"
   ]
  },
  {
   "cell_type": "code",
   "execution_count": null,
   "metadata": {},
   "outputs": [],
   "source": []
  }
 ],
 "metadata": {
  "kernelspec": {
   "display_name": "Python 3",
   "language": "python",
   "name": "python3"
  },
  "language_info": {
   "codemirror_mode": {
    "name": "ipython",
    "version": 3
   },
   "file_extension": ".py",
   "mimetype": "text/x-python",
   "name": "python",
   "nbconvert_exporter": "python",
   "pygments_lexer": "ipython3",
   "version": "3.7.6"
  }
 },
 "nbformat": 4,
 "nbformat_minor": 4
}
